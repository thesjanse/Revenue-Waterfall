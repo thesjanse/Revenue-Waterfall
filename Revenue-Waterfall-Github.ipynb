{
 "cells": [
  {
   "cell_type": "markdown",
   "metadata": {},
   "source": [
    "## TODO\n",
    "* worksheets renaming\n",
    "* split code into small functions\n",
    "* Rename Queries\n",
    "* Arrange Colors, Widths for the Layout\n",
    "* Freeze Panes\n",
    "* Add headlines for each region\n",
    "* Add Subtotals for each region\n",
    "* Add Total for each year in Totals\n"
   ]
  },
  {
   "cell_type": "code",
   "execution_count": 1,
   "metadata": {
    "collapsed": true
   },
   "outputs": [],
   "source": [
    "import pandas as pd\n",
    "from pandas.io.json import json_normalize\n",
    "from simple_salesforce import Salesforce\n",
    "import openpyxl\n",
    "\n",
    "from openpyxl.utils.dataframe import dataframe_to_rows\n",
    "from openpyxl.utils import get_column_letter\n",
    "\n",
    "from openpyxl.styles import NamedStyle, Alignment, PatternFill, Font\n",
    "\n",
    "from openpyxl.styles import colors\n",
    "from openpyxl.styles import Color"
   ]
  },
  {
   "cell_type": "code",
   "execution_count": 1,
   "metadata": {
    "collapsed": true
   },
   "outputs": [],
   "source": [
    "# insert login "
   ]
  },
  {
   "cell_type": "code",
   "execution_count": 3,
   "metadata": {
    "collapsed": true
   },
   "outputs": [],
   "source": [
    "# Dateperiod Generation\n",
    "dates = pd.date_range(start = '2013-12-01', periods = 157, freq = 'M', name = 'Date')\n",
    "dates = pd.Series(dates).dt.date"
   ]
  },
  {
   "cell_type": "code",
   "execution_count": 4,
   "metadata": {
    "collapsed": true
   },
   "outputs": [],
   "source": [
    "# reading login data from external file\n",
    "with open(salesforce_login_filepath, 'r') as f:\n",
    "    username = f.readline().rstrip()\n",
    "    password = f.readline().rstrip()\n",
    "    token = f.readline()\n",
    "\n",
    "# logging in to Salesforce\n",
    "sf = Salesforce(password=password, username=username, security_token=token)"
   ]
  },
  {
   "cell_type": "code",
   "execution_count": 5,
   "metadata": {
    "collapsed": true
   },
   "outputs": [],
   "source": [
    "account = sf.query_all(query_2)\n",
    "df_account = pd.DataFrame(account['records'])"
   ]
  },
  {
   "cell_type": "code",
   "execution_count": 6,
   "metadata": {
    "collapsed": true
   },
   "outputs": [],
   "source": [
    "territory = sf.query_all(query_3)\n",
    "df_territory = pd.DataFrame(territory['records'])"
   ]
  },
  {
   "cell_type": "code",
   "execution_count": 7,
   "metadata": {
    "collapsed": true
   },
   "outputs": [],
   "source": [
    "opp = sf.query_all(query)\n",
    "df_opp = pd.DataFrame(opp['records'])"
   ]
  },
  {
   "cell_type": "code",
   "execution_count": 8,
   "metadata": {
    "collapsed": true
   },
   "outputs": [],
   "source": [
    "acc_ter = pd.merge(df_account, df_territory, how='left', left_on='Territory__c', right_on='Id')\n",
    "df = pd.merge(df_opp, acc_ter, how='right', left_on='AccountId', right_on='Id_x')"
   ]
  },
  {
   "cell_type": "code",
   "execution_count": 9,
   "metadata": {
    "collapsed": true
   },
   "outputs": [],
   "source": [
    "df.drop(['attributes', 'attributes_x', 'Id_x', 'Territory__c', 'attributes_y', 'Id_y'], axis=1, inplace = True)"
   ]
  },
  {
   "cell_type": "code",
   "execution_count": 10,
   "metadata": {
    "collapsed": true
   },
   "outputs": [],
   "source": [
    "df.dropna(subset=['AccountId'], inplace = True)"
   ]
  },
  {
   "cell_type": "code",
   "execution_count": 11,
   "metadata": {
    "collapsed": true
   },
   "outputs": [],
   "source": [
    "df['Maintenance_Start_Date__c'] = pd.to_datetime(df['Maintenance_Start_Date__c'])"
   ]
  },
  {
   "cell_type": "markdown",
   "metadata": {},
   "source": [
    "# Workbook styles"
   ]
  },
  {
   "cell_type": "code",
   "execution_count": 13,
   "metadata": {
    "collapsed": true
   },
   "outputs": [],
   "source": [
    "top_column_style = NamedStyle(name='Top Column')\n",
    "top_column_style.font = Font(name='Arial', size=8, bold=True, italic=False, color='FFFFFF')\n",
    "top_column_style.fill = PatternFill(fgColor='808080', patternType='solid')\n",
    "top_column_style.alignment = Alignment(horizontal='center')"
   ]
  },
  {
   "cell_type": "code",
   "execution_count": 14,
   "metadata": {
    "collapsed": true
   },
   "outputs": [],
   "source": [
    "top_dates_style = NamedStyle(name='Top Dates')\n",
    "top_dates_style.font = Font(name='Arial', size=8, bold=True, italic=False, color='FFFFFF')\n",
    "top_dates_style.fill = PatternFill(fgColor='44546A', patternType='solid')\n",
    "top_dates_style.alignment = Alignment(horizontal='center')\n",
    "top_dates_style.number_format = \"MMM-YY\""
   ]
  },
  {
   "cell_type": "code",
   "execution_count": 15,
   "metadata": {
    "collapsed": true
   },
   "outputs": [],
   "source": [
    "general_style = NamedStyle(name='General Style')\n",
    "general_style.font = Font(name='Arial', size=8, bold=False, italic=False, color='000000')"
   ]
  },
  {
   "cell_type": "code",
   "execution_count": 16,
   "metadata": {
    "collapsed": true
   },
   "outputs": [],
   "source": [
    "left_dates_style = NamedStyle(name='Left Dates')\n",
    "left_dates_style.font = Font(name='Arial', size=8, bold=False, italic=False, color='000000')\n",
    "left_dates_style.alignment = Alignment(horizontal='center')\n",
    "left_dates_style.number_format = \"MMM-YY\""
   ]
  },
  {
   "cell_type": "code",
   "execution_count": 17,
   "metadata": {
    "collapsed": true
   },
   "outputs": [],
   "source": [
    "currency_style = NamedStyle(name='Currencies')\n",
    "currency_style.font = Font(name='Arial', size=8, bold=False, italic=False, color='000000')\n",
    "currency_style.number_format = \"$#,##0.00\""
   ]
  },
  {
   "cell_type": "code",
   "execution_count": null,
   "metadata": {
    "collapsed": true
   },
   "outputs": [],
   "source": []
  },
  {
   "cell_type": "code",
   "execution_count": null,
   "metadata": {
    "collapsed": true
   },
   "outputs": [],
   "source": []
  },
  {
   "cell_type": "code",
   "execution_count": null,
   "metadata": {
    "collapsed": true
   },
   "outputs": [],
   "source": []
  },
  {
   "cell_type": "markdown",
   "metadata": {},
   "source": [
    "## Functions declaration"
   ]
  },
  {
   "cell_type": "code",
   "execution_count": 18,
   "metadata": {
    "collapsed": true
   },
   "outputs": [],
   "source": [
    "def currency_fix(df):\n",
    "    if df['CurrencyIsoCode'] == 'USD':\n",
    "        return df['Amount']\n",
    "    elif df['CurrencyIsoCode'] == 'EUR':\n",
    "        return df['Amount']/0.84\n",
    "    elif df['CurrencyIsoCode'] == 'GBP':\n",
    "        return df['Amount']/0.75"
   ]
  },
  {
   "cell_type": "code",
   "execution_count": 19,
   "metadata": {
    "collapsed": true
   },
   "outputs": [],
   "source": [
    "def maint_term_trim(string_to_trim):\n",
    "    '''Trims the string of Support_and_Maintenance__c to single character and converts it to integer.\n",
    "    Then the function multiplies the value in years by 12 months.'''\n",
    "    if string_to_trim == 'None':\n",
    "        string_to_trim = 0\n",
    "        return string_to_trim\n",
    "    else:\n",
    "        string_to_trim = string_to_trim[:1]\n",
    "        string_to_trim = int(string_to_trim)*12\n",
    "        return string_to_trim"
   ]
  },
  {
   "cell_type": "code",
   "execution_count": 20,
   "metadata": {
    "collapsed": true
   },
   "outputs": [],
   "source": [
    "def ps_msp_total_contract(sheet):\n",
    "    '''Function fills the values for the professional services and MSP bookings.'''\n",
    "    \n",
    "    # initialization of starting rows for dates and column titles\n",
    "    start_row_dates = 17\n",
    "    start_row_titles = 14\n",
    "    \n",
    "    # Loop over the regions available in data\n",
    "    for i, val in enumerate(df['Country_Group__c'].unique()):\n",
    "        \n",
    "        # printing of Country - Build Revenue Title before each regional block\n",
    "        sheet.cell(row=i+start_row_titles, column=2, value=val).style = general_style\n",
    "        sheet.cell(row=i+start_row_titles+1, column=2, value='Build Revenue').style = general_style\n",
    "        \n",
    "        # printing of the left column dates, number of months in a period. Initialization of start and end date for formula.\n",
    "        # 12 might be deleted\n",
    "        for j, date in enumerate(dates):\n",
    "            sheet.cell(row=j+start_row_dates, column=3, value=dates[j]).style = left_dates_style\n",
    "            sheet.cell(row=j+start_row_dates+1, column=5, value=12).style = general_style\n",
    "            start_date = sheet.cell(row=j+start_row_dates,column=3).value\n",
    "            end_date = sheet.cell(row=j+start_row_dates+1,column=3).value\n",
    "            \n",
    "            # df filtering and pushing of the data to a cell based on worksheet\n",
    "            if sheet.title == 'ps':\n",
    "                push_df = df[(df['Country_Group__c']==val)&(df['Type']!='MSP')&(df['Maintenance_Term']==0)&(df['CloseDate']>start_date)&(df['CloseDate']<=end_date)]\n",
    "                sheet.cell(row=j+start_row_dates+1, column=4, value=push_df['Bookings'].sum()).style = currency_style\n",
    "                sheet.cell(row=j+start_row_dates+1, column=j+7, value=push_df['Bookings'].sum()).style = currency_style\n",
    "                push_df = df[(df['Type']!='MSP')&(df['Maintenance_Term']==0)&(df['CloseDate']>start_date)&(df['CloseDate']<=end_date)]\n",
    "                sheet.cell(row=10, column=j+7, value = push_df['Bookings'].sum()).style = currency_style\n",
    "            elif sheet.title == 'msp':\n",
    "                push_df = df[(df['Country_Group__c']==val)&(df['Type']=='MSP')&(df['CloseDate']>start_date)&(df['CloseDate']<=end_date)]\n",
    "                sheet.cell(row=j+start_row_dates+1, column=4, value=push_df['Bookings'].sum()).style = currency_style\n",
    "                sheet.cell(row=j+start_row_dates+1, column=j+7, value=push_df['Bookings'].sum()).style = currency_style\n",
    "                push_df = df[(df['Type']=='MSP')&(df['CloseDate']>start_date)&(df['CloseDate']<=end_date)]\n",
    "                sheet.cell(row=10, column=j+7, value = push_df['Bookings'].sum()).style = currency_style\n",
    "            \n",
    "            elif sheet.title == 'normal' | sheet.title == 'addon':\n",
    "                push_df = df[(df['Type']=='MSP')&(df['CloseDate']>start_date)&(df['CloseDate']<=end_date)]\n",
    "                sheet.cell(row=10, column=j+10, value = push_df['Bookings'].sum()).style = currency_style\n",
    "                \n",
    "            elif sheet.title == 'sub':\n",
    "                push_df = df[(df['Type']=='MSP')&(df['CloseDate']>start_date)&(df['CloseDate']<=end_date)]\n",
    "                sheet.cell(row=10, column=j+8, value = push_df['Bookings'].sum()).style = currency_style\n",
    "            \n",
    "            elif sheet.title == 'renewal':\n",
    "                push_df = df[(df['Type']=='MSP')&(df['CloseDate']>start_date)&(df['CloseDate']<=end_date)]\n",
    "                sheet.cell(row=10, column=j+8, value = push_df['Bookings'].sum()).style = currency_style\n",
    "            \n",
    "        start_row_dates = (len(dates)+start_row_dates)+6\n",
    "        start_row_titles = (len(dates)+start_row_titles)+5"
   ]
  },
  {
   "cell_type": "code",
   "execution_count": 21,
   "metadata": {
    "collapsed": true
   },
   "outputs": [],
   "source": [
    "def renewal_total_contract(sheet):\n",
    "    '''Function fills the values for renewals.'''\n",
    "    # initialization of starting rows for dates and column titles\n",
    "    start_row_dates = 17\n",
    "    start_row_titles = 13\n",
    "    start_row_term = 15\n",
    "    \n",
    "    for i, country in enumerate(df['Country_Group__c'].unique()):\n",
    "        # printing of Country - Build Revenue Title before each regional block\n",
    "        sheet.cell(row=start_row_titles, column=2, value=country).style = general_style\n",
    "        sheet.cell(row=start_row_titles+1, column=2, value='Build Revenue').style = general_style\n",
    "        \n",
    "        term_df = df[(df['Country_Group__c']==country)&(df['Type']!='MSP')&(df['Maintenance_Term']!=0)&(df['QuoteType__c']=='Renewal')]\n",
    "        for k, term in enumerate(sorted(term_df['Maintenance_Term'].unique())):\n",
    "            sheet.cell(row=start_row_term, column=2, value=str(int(term/12)) + ' Year Deferral').style = general_style\n",
    "            start_row_titles = (len(dates)+start_row_dates)+2\n",
    "            z_offset = 0\n",
    "            \n",
    "            for j, date in enumerate(dates):\n",
    "                sheet.cell(row=j+start_row_dates, column=3, value=dates[j]).style = left_dates_style\n",
    "                sheet.cell(row=j+start_row_dates+1, column=6, value=term).style = general_style\n",
    "                start_date = sheet.cell(row=j+start_row_dates,column=3).value\n",
    "                end_date = sheet.cell(row=j+start_row_dates+1,column=3).value\n",
    "                # filling total contract\n",
    "                push_df = df[(df['Country_Group__c']==country)&(df['QuoteType__c']=='Renewal')&(df['Type']!='MSP')&(df['Maintenance_Term']==term)&(df['Maintenance_Start_Date__c']>start_date)&(df['Maintenance_Start_Date__c']<=end_date)]\n",
    "                sheet.cell(row=j+start_row_dates+1, column=5, value= push_df['Bookings'].sum()).style = currency_style\n",
    "                # filling monthly revenue\n",
    "                sheet.cell(row=j+start_row_dates+1, column=7, value=\n",
    "                          (sheet.cell(row=j+start_row_dates+1, column=5).value)\n",
    "                           /\n",
    "                           (sheet.cell(row=j+start_row_dates+1, column=6).value)).style = currency_style\n",
    "                \n",
    "                # filling ACV\n",
    "                sheet.cell(row=j+start_row_dates+1, column=4, value=\n",
    "                          (sheet.cell(row=j+start_row_dates+1, column=7).value) * 12).style = currency_style\n",
    "                \n",
    "                # filling revenue waterfall\n",
    "                if start_date == sheet.cell(row=3, column=j+8).value:\n",
    "                    for z in range(term):\n",
    "                        sheet.cell(row=j+start_row_dates, column=z+9+z_offset, value=\n",
    "                                    sheet.cell(row=j+start_row_dates, column=7).value\n",
    "                                    ).style = currency_style\n",
    "                    z_offset += 1\n",
    "                \n",
    "            start_row_dates = (len(dates)+start_row_dates)+6\n",
    "            start_row_term = (len(dates)+start_row_term)+6\n"
   ]
  },
  {
   "cell_type": "code",
   "execution_count": null,
   "metadata": {
    "collapsed": true
   },
   "outputs": [],
   "source": [
    "def normal_total_contract(sheet):\n",
    "    '''Function fills the values for renewals.'''\n",
    "    # initialization of starting rows for dates and column titles\n",
    "    start_row_dates = 17\n",
    "    start_row_titles = 13\n",
    "    start_row_term = 15\n",
    "    \n",
    "    for i, country in enumerate(df['Country_Group__c'].unique()):\n",
    "        # printing of Country - Build Revenue Title before each regional block\n",
    "        sheet.cell(row=start_row_titles, column=2, value=country).style = general_style\n",
    "        sheet.cell(row=start_row_titles+1, column=2, value='Build Revenue').style = general_style\n",
    "        \n",
    "        term_df = df[(df['Country_Group__c']==country)&(df['Type']!='MSP')&(df['Maintenance_Term']!=0)&(df['QuoteType__c']=='Normal')]\n",
    "        for k, term in enumerate(sorted(term_df['Maintenance_Term'].unique())):\n",
    "            sheet.cell(row=start_row_term, column=2, value=str(int(term/12)) + ' Year Deferral').style = general_style\n",
    "            start_row_titles = (len(dates)+start_row_dates)+2\n",
    "            z_offset = 0\n",
    "            \n",
    "            for j, date in enumerate(dates):\n",
    "                sheet.cell(row=j+start_row_dates, column=3, value=dates[j]).style = left_dates_style\n",
    "                sheet.cell(row=j+start_row_dates+1, column=7, value=term).style = general_style\n",
    "                start_date = sheet.cell(row=j+start_row_dates,column=3).value\n",
    "                end_date = sheet.cell(row=j+start_row_dates+1,column=3).value\n",
    "                # filling total contract\n",
    "                push_df = df[(df['Country_Group__c']==country)&(df['QuoteType__c']=='Normal')&(df['Type']!='MSP')&(df['Maintenance_Term']==term)&(df['CloseDate']>start_date)&(df['CloseDate']<=end_date)]\n",
    "                sheet.cell(row=j+start_row_dates+1, column=6, value= push_df['Bookings'].sum()).style = currency_style\n",
    "                # filling monthly revenue\n",
    "                sheet.cell(row=j+start_row_dates+1, column=8, value=\n",
    "                          (sheet.cell(row=j+start_row_dates+1, column=6).value*0.25)\n",
    "                           /\n",
    "                           (sheet.cell(row=j+start_row_dates+1, column=7).value)).style = currency_style\n",
    "                \n",
    "                # filling ACV\n",
    "                sheet.cell(row=j+start_row_dates+1, column=4, value=\n",
    "                          ((sheet.cell(row=j+start_row_dates+1, column=6).value) * 0.75) +\n",
    "                           ((sheet.cell(row=j+start_row_dates+1, column=8).value) * 12)).style = currency_style\n",
    "                \n",
    "                # filling Def. Maintenance\n",
    "                sheet.cell(row=j+start_row_dates+1, column=5, value=\n",
    "                          (sheet.cell(row=j+start_row_dates+1, column=6).value)*0.25).style = currency_style\n",
    "                \n",
    "                # filling revenue waterfall\n",
    "                if start_date == sheet.cell(row=3, column=j+9).value:\n",
    "                    for z in range(term):\n",
    "                        if z == 0:\n",
    "                            sheet.cell(row=j+start_row_dates, column=z+10+z_offset, value=\n",
    "                                    sheet.cell(row=j+start_row_dates, column=8).value + \n",
    "                                    (sheet.cell(row=j+start_row_dates, column=6).value * 0.75)\n",
    "                                    ).style = currency_style\n",
    "                        else:\n",
    "                            sheet.cell(row=j+start_row_dates, column=z+10+z_offset, value=\n",
    "                                        sheet.cell(row=j+start_row_dates, column=8).value\n",
    "                                        ).style = currency_style\n",
    "                    z_offset += 1\n",
    "                \n",
    "            start_row_dates = (len(dates)+start_row_dates)+6\n",
    "            start_row_term = (len(dates)+start_row_term)+6"
   ]
  },
  {
   "cell_type": "code",
   "execution_count": 23,
   "metadata": {
    "collapsed": true
   },
   "outputs": [],
   "source": [
    "def top_column_style_generator(list):\n",
    "    # generation of top columns\n",
    "    for i, col in enumerate(list):\n",
    "        sheet.cell(row=3, column=i+3, value=col).style = top_column_style\n",
    "        k = get_column_letter(i+3)\n",
    "        sheet.column_dimensions[k].width = 25\n",
    "    \n",
    "    # generation of revenue sources column on top\n",
    "    for i, row in enumerate(revenue_column):\n",
    "        sheet.cell(row=i+5, column=len(list)+2,value=row).style = general_style\n",
    "    \n",
    "    # generation of total datarange on top\n",
    "    for i, col in enumerate(dates[1:]):\n",
    "        sheet.cell(row=3, column=len(list)+4+i, value=col).style = top_dates_style\n",
    "        k = get_column_letter(i+len(list)+4)\n",
    "        sheet.column_dimensions[k].width = 12"
   ]
  },
  {
   "cell_type": "markdown",
   "metadata": {},
   "source": [
    "# Data Cleaning"
   ]
  },
  {
   "cell_type": "code",
   "execution_count": 24,
   "metadata": {
    "collapsed": true
   },
   "outputs": [],
   "source": [
    "df['Bookings'] = df.apply(currency_fix, axis = 1)"
   ]
  },
  {
   "cell_type": "code",
   "execution_count": 25,
   "metadata": {
    "collapsed": true
   },
   "outputs": [],
   "source": [
    "# Maintenance term is converted to the number of months.\n",
    "df['Maintenance_Term'] = df['Support_and_Maintenance__c'].apply(maint_term_trim)\n",
    "df.drop(['Support_and_Maintenance__c', 'Amount'], axis = 1, inplace = True)"
   ]
  },
  {
   "cell_type": "code",
   "execution_count": 26,
   "metadata": {
    "collapsed": true
   },
   "outputs": [],
   "source": [
    "df['Country_Group__c'] = df['Country_Group__c'].replace(['Russia & CIS', 'Benelux & Nordics', 'Italy & Iberia', 'UKI',\n",
    "                                                        'DACH', 'Middle East', 'North Africa','South Africa', 'Central Africa', \n",
    "                                                         'East Europe', 'France'], 'EMEA')\n",
    "df['Country_Group__c'] = df['Country_Group__c'].replace('NAM', 'North America')\n",
    "df['Country_Group__c'] = df['Country_Group__c'].replace(['JAPAC', 'India'], 'APAC')\n",
    "df['Country_Group__c'] = df['Country_Group__c'].replace('LATAM', 'ROW')\n",
    "df['Country_Group__c'] = df['Country_Group__c'].fillna('ROW')"
   ]
  },
  {
   "cell_type": "code",
   "execution_count": 27,
   "metadata": {
    "collapsed": true
   },
   "outputs": [],
   "source": [
    "df['CloseDate'] = pd.to_datetime(df['CloseDate'])\n",
    "df['CloseDate'] = df['CloseDate']"
   ]
  },
  {
   "cell_type": "code",
   "execution_count": 28,
   "metadata": {
    "collapsed": true
   },
   "outputs": [],
   "source": [
    "df = df.drop(df[df['Bookings']==0].index)"
   ]
  },
  {
   "cell_type": "markdown",
   "metadata": {},
   "source": [
    "## Workbook manipulation\n"
   ]
  },
  {
   "cell_type": "code",
   "execution_count": 29,
   "metadata": {
    "collapsed": true
   },
   "outputs": [],
   "source": [
    "wb = openpyxl.Workbook()\n",
    "raw_data = wb.active\n",
    "raw_data.title = 'Raw Data'\n",
    "raw_data.sheet_properties.tabColor = 'D3D3D3'"
   ]
  },
  {
   "cell_type": "code",
   "execution_count": 30,
   "metadata": {
    "collapsed": true
   },
   "outputs": [],
   "source": [
    "# assign named styles to workbook\n",
    "wb.add_named_style(top_column_style)"
   ]
  },
  {
   "cell_type": "code",
   "execution_count": 31,
   "metadata": {
    "collapsed": true
   },
   "outputs": [],
   "source": [
    "for r in dataframe_to_rows(df, index=True, header=True):\n",
    "    raw_data.append(r)\n",
    "\n",
    "for cell in raw_data['A'] + raw_data[1]:\n",
    "    cell.style = 'Pandas'"
   ]
  },
  {
   "cell_type": "code",
   "execution_count": 32,
   "metadata": {
    "collapsed": true
   },
   "outputs": [],
   "source": [
    "# creating sheets\n",
    "sheet_names = ['Total RRS', 'Normal RRS', 'Add-on RRS', 'Normal', 'Renewal', 'Add-on', 'Professional Services', 'MSP', 'Subscription', 'Normal S&M', 'Add-on S&M']\n",
    "sheets = ['t_rrs', 'n_rrs', 'ad_rrs', 'total', 'normal', 'renewal', 'addon', 'ps', 'msp', 'sub', 'n_sm', 'ad_sm']\n",
    "for i, sheet in enumerate(sheets):\n",
    "    sheets[i] = wb.create_sheet(sheet, i)"
   ]
  },
  {
   "cell_type": "markdown",
   "metadata": {},
   "source": [
    "# Layout"
   ]
  },
  {
   "cell_type": "code",
   "execution_count": null,
   "metadata": {
    "collapsed": true
   },
   "outputs": [],
   "source": [
    "# generation of top-left titles\n",
    "top_columns = ['Close Month', 'ACV', 'Def.Maintenance', 'Total Contract', 'Term in Months', 'Monthly Revenue']\n",
    "revenue_column = ['Normal', 'Renewal', 'Add-on Purchase', 'Subscription', 'MSP', 'Professional Services', 'Total Sales Build Revenue']\n",
    "\n",
    "for sheet in sheets:\n",
    "    if sheet.title=='normal' or sheet.title == 'addon':\n",
    "        top_column_style_generator(top_columns)\n",
    "        if sheet.title=='normal':\n",
    "            normal_total_contract(sheet)\n",
    "            \n",
    "    elif sheet.title=='renewal' or sheet.title=='ad_rrs' or sheet.title=='n_rrs':\n",
    "        top_column_style_generator(top_columns[:2] + top_columns[3:])\n",
    "        renewal_total_contract(sheet)\n",
    "            \n",
    "    elif sheet.title=='ps' or sheet.title=='msp':\n",
    "        top_column_style_generator(top_columns[0:1]+top_columns[3:5])\n",
    "        ps_msp_total_contract(sheet)\n",
    "\n",
    "            \n",
    "    elif sheet.title=='sub':\n",
    "        top_column_style_generator(top_columns[0:1]+top_columns[3:])\n",
    "\n",
    "            \n",
    "    elif sheet.title=='n_sm' or sheet.title=='ad_sm':\n",
    "        top_column_style_generator(top_columns[0:1] + top_columns[2:])\n",
    "\n",
    "    \n"
   ]
  },
  {
   "cell_type": "code",
   "execution_count": null,
   "metadata": {
    "collapsed": true
   },
   "outputs": [],
   "source": [
    "# wb.save(r\"Python\\Revenue Waterfall\\temp.xlsx\")"
   ]
  },
  {
   "cell_type": "code",
   "execution_count": null,
   "metadata": {
    "collapsed": true
   },
   "outputs": [],
   "source": []
  },
  {
   "cell_type": "code",
   "execution_count": null,
   "metadata": {
    "collapsed": true
   },
   "outputs": [],
   "source": []
  }
 ],
 "metadata": {
  "kernelspec": {
   "display_name": "Python 3",
   "language": "python",
   "name": "python3"
  },
  "language_info": {
   "codemirror_mode": {
    "name": "ipython",
    "version": 3
   },
   "file_extension": ".py",
   "mimetype": "text/x-python",
   "name": "python",
   "nbconvert_exporter": "python",
   "pygments_lexer": "ipython3",
   "version": "3.6.3"
  }
 },
 "nbformat": 4,
 "nbformat_minor": 2
}
